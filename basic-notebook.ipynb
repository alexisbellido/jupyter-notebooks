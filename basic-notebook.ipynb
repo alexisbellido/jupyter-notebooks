{
 "cells": [
  {
   "cell_type": "code",
   "execution_count": 3,
   "metadata": {},
   "outputs": [
    {
     "name": "stdout",
     "output_type": "stream",
     "text": [
      "x is 5\n",
      "Yes, it is 5\n"
     ]
    }
   ],
   "source": [
    "x = 5\n",
    "print('x is', x)\n",
    "if x == 5:\n",
    "    print('Yes, it is 5')"
   ]
  },
  {
   "cell_type": "code",
   "execution_count": 12,
   "metadata": {},
   "outputs": [
    {
     "name": "stdout",
     "output_type": "stream",
     "text": [
      "    state  year   pop\n",
      "0    Ohio  2000  1.55\n",
      "1    Ohio  2001  1.70\n",
      "2    Ohio  2002  3.60\n",
      "3  Nevada  2001  2.40\n",
      "4  Nevada  2002  2.90\n",
      "5  Nevada  2003  3.20\n"
     ]
    }
   ],
   "source": [
    "import pandas as pd\n",
    "data = {'state': ['Ohio', 'Ohio', 'Ohio', 'Nevada', 'Nevada', 'Nevada'], 'year': [2000, 2001, 2002, 2001, 2002, 2003],\n",
    "'pop': [1.55, 1.7, 3.6, 2.4, 2.9, 3.2]}\n",
    "frame = pd.DataFrame(data)\n",
    "print(frame)\n"
   ]
  },
  {
   "cell_type": "code",
   "execution_count": null,
   "metadata": {},
   "outputs": [],
   "source": []
  }
 ],
 "metadata": {
  "kernelspec": {
   "display_name": "Python 3",
   "language": "python",
   "name": "python3"
  },
  "language_info": {
   "codemirror_mode": {
    "name": "ipython",
    "version": 3
   },
   "file_extension": ".py",
   "mimetype": "text/x-python",
   "name": "python",
   "nbconvert_exporter": "python",
   "pygments_lexer": "ipython3",
   "version": "3.7.6"
  }
 },
 "nbformat": 4,
 "nbformat_minor": 4
}
